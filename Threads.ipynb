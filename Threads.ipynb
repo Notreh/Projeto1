{
  "nbformat": 4,
  "nbformat_minor": 0,
  "metadata": {
    "colab": {
      "name": "Untitled1.ipynb",
      "version": "0.3.2",
      "provenance": [],
      "collapsed_sections": [],
      "include_colab_link": true
    },
    "kernelspec": {
      "name": "python3",
      "display_name": "Python 3"
    }
  },
  "cells": [
    {
      "cell_type": "markdown",
      "metadata": {
        "id": "view-in-github",
        "colab_type": "text"
      },
      "source": [
        "<a href=\"https://colab.research.google.com/github/Notreh/Projeto1/blob/master/Threads.ipynb\" target=\"_parent\"><img src=\"https://colab.research.google.com/assets/colab-badge.svg\" alt=\"Open In Colab\"/></a>"
      ]
    },
    {
      "cell_type": "code",
      "metadata": {
        "id": "BALBNs9azy53",
        "colab_type": "code",
        "colab": {}
      },
      "source": [
        "import logging\n",
        "import threading\n",
        "import time"
      ],
      "execution_count": 0,
      "outputs": []
    },
    {
      "cell_type": "code",
      "metadata": {
        "id": "SvlbRn0-0Dj_",
        "colab_type": "code",
        "colab": {}
      },
      "source": [
        "def thread_function(name):\n",
        "  logging.info(\"Thread %s: starting\", name)\n",
        "  time.sleep(2)\n",
        "  logging.info(\"Thread %s: finishing\",name)\n",
        "  "
      ],
      "execution_count": 0,
      "outputs": []
    },
    {
      "cell_type": "code",
      "metadata": {
        "id": "-Vd-083y0U6u",
        "colab_type": "code",
        "colab": {
          "base_uri": "https://localhost:8080/",
          "height": 119
        },
        "outputId": "21794789-200f-476c-d80c-70e7487cbb59"
      },
      "source": [
        "if __name__ == \"__main__\":\n",
        "  format = \"%(asctime)s: %(message)s\"\n",
        "  logging.basicConfig(format=format, level=logging.INFO,\n",
        "                     datefmt=\"%H:%M:%S\")\n",
        "  threads = list()\n",
        "  for index in range(3):    \n",
        "      logging.info(\"Main  :create and start thread %d.\", index)\n",
        "      x = threading.Thread(target=thread_function, args=(index,))\n",
        "      threads.append(x)\n",
        "      x.start()\n",
        "      "
      ],
      "execution_count": 16,
      "outputs": [
        {
          "output_type": "stream",
          "text": [
            "12:13:32: Main  :create and start thread 0.\n",
            "12:13:32: Thread 0: starting\n",
            "12:13:32: Main  :create and start thread 1.\n",
            "12:13:32: Thread 1: starting\n",
            "12:13:32: Main  :create and start thread 2.\n",
            "12:13:32: Thread 2: starting\n"
          ],
          "name": "stderr"
        }
      ]
    },
    {
      "cell_type": "code",
      "metadata": {
        "id": "sqMA_KTP4BuK",
        "colab_type": "code",
        "colab": {
          "base_uri": "https://localhost:8080/",
          "height": 119
        },
        "outputId": "cf3c66e8-ef01-4e73-f623-fd57c4ef349d"
      },
      "source": [
        "for index, thread in enumerate(threads):\n",
        "  logging.info(\"Main  : before joining thread %d.\", index)\n",
        "  thread.join()\n",
        "  logging.info(\"Main  : thread %d done\", index)"
      ],
      "execution_count": 18,
      "outputs": [
        {
          "output_type": "stream",
          "text": [
            "12:14:02: Main  : before joining thread 0.\n",
            "12:14:02: Main  : thread 0 done\n",
            "12:14:02: Main  : before joining thread 1.\n",
            "12:14:02: Main  : thread 1 done\n",
            "12:14:03: Main  : before joining thread 2.\n",
            "12:14:03: Main  : thread 2 done\n"
          ],
          "name": "stderr"
        }
      ]
    }
  ]
}