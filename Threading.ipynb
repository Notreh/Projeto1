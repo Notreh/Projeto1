{
  "nbformat": 4,
  "nbformat_minor": 0,
  "metadata": {
    "colab": {
      "name": "Untitled2.ipynb",
      "version": "0.3.2",
      "provenance": [],
      "include_colab_link": true
    },
    "kernelspec": {
      "name": "python3",
      "display_name": "Python 3"
    }
  },
  "cells": [
    {
      "cell_type": "markdown",
      "metadata": {
        "id": "view-in-github",
        "colab_type": "text"
      },
      "source": [
        "<a href=\"https://colab.research.google.com/github/Notreh/Projeto1/blob/master/Threading.ipynb\" target=\"_parent\"><img src=\"https://colab.research.google.com/assets/colab-badge.svg\" alt=\"Open In Colab\"/></a>"
      ]
    },
    {
      "cell_type": "code",
      "metadata": {
        "id": "ATOp7DPp5lYV",
        "colab_type": "code",
        "colab": {}
      },
      "source": [
        "import threading"
      ],
      "execution_count": 0,
      "outputs": []
    },
    {
      "cell_type": "code",
      "metadata": {
        "id": "KwhNHz3Y5rN2",
        "colab_type": "code",
        "outputId": "6c413bbc-e292-42b4-ecab-ec4095e68e3b",
        "colab": {
          "base_uri": "https://localhost:8080/",
          "height": 85
        }
      },
      "source": [
        "class MyThread(threading.Thread):\n",
        "  def __init__(self):\n",
        "    super(MyThread, self).__init__()\n",
        "    \n",
        "  def run(self):\n",
        "    print (\"Running\")\n",
        "    \n",
        "thread_list = []\n",
        "for i in range(4):\n",
        "  thread= MyThread()\n",
        "  thread_list.append(thread)\n",
        "  thread.start()\n",
        "    "
      ],
      "execution_count": 14,
      "outputs": [
        {
          "output_type": "stream",
          "text": [
            "Running\n",
            "Running\n",
            "Running\n",
            "Running\n"
          ],
          "name": "stdout"
        }
      ]
    }
  ]
}