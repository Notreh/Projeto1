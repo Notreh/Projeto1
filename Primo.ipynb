{
  "nbformat": 4,
  "nbformat_minor": 0,
  "metadata": {
    "colab": {
      "name": "Primo.ipynb",
      "version": "0.3.2",
      "provenance": [],
      "include_colab_link": true
    },
    "kernelspec": {
      "name": "python3",
      "display_name": "Python 3"
    }
  },
  "cells": [
    {
      "cell_type": "markdown",
      "metadata": {
        "id": "view-in-github",
        "colab_type": "text"
      },
      "source": [
        "<a href=\"https://colab.research.google.com/github/Notreh/Projeto1/blob/master/Primo.ipynb\" target=\"_parent\"><img src=\"https://colab.research.google.com/assets/colab-badge.svg\" alt=\"Open In Colab\"/></a>"
      ]
    },
    {
      "cell_type": "code",
      "metadata": {
        "id": "-CqutsaBWGeP",
        "colab_type": "code",
        "colab": {}
      },
      "source": [
        "import math\n"
      ],
      "execution_count": 0,
      "outputs": []
    },
    {
      "cell_type": "code",
      "metadata": {
        "id": "8XGmd6pfWR6C",
        "colab_type": "code",
        "colab": {
          "base_uri": "https://localhost:8080/",
          "height": 51
        },
        "outputId": "73feb570-a97a-46fb-c7ee-178e5e41d5be"
      },
      "source": [
        "def check_prime(number):\n",
        "  sqrt_number = math.sqrt(number)\n",
        "  number_float = float(number)\n",
        "  for i in range(2, int(sqrt_number) + 1):\n",
        "      if (number_float / i).is_integer():\n",
        "                 return False\n",
        "  return True\n",
        "                 \n",
        "                 \n",
        "print(\"check_prime(10000000) = \", check_prime(10000000))\n",
        "print(\"check_prime(10000019) = \", check_prime(10000019))             \n",
        "                 \n",
        "                 \n",
        "                "
      ],
      "execution_count": 8,
      "outputs": [
        {
          "output_type": "stream",
          "text": [
            "check_prime(10000000) =  False\n",
            "check_prime(10000019) =  True\n"
          ],
          "name": "stdout"
        }
      ]
    }
  ]
}